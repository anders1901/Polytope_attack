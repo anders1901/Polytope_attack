{
 "cells": [
  {
   "cell_type": "markdown",
   "id": "b2436df4-62fc-403d-a41e-5c789708c263",
   "metadata": {},
   "source": [
    "# Building the set of inequations for LP solving based on good signatures\n",
    "\n",
    "## (given the knowledge of $t_0$ )\n",
    "-------------------------"
   ]
  },
  {
   "cell_type": "markdown",
   "id": "f97e2bf7-0de6-4914-ac06-8ce05190bd78",
   "metadata": {},
   "source": [
    "## Libraries Used\n",
    "------------------------\n",
    "\n",
    "Below choose the solver to use between `scipy` and `lpsolve`                                                               "
   ]
  },
  {
   "cell_type": "code",
   "execution_count": null,
   "id": "95f39cae-fbe8-42f3-83e8-8fd6874cb836",
   "metadata": {},
   "outputs": [],
   "source": [
    "%run -i ../Helper_functions.py"
   ]
  },
  {
   "cell_type": "markdown",
   "id": "b37e096d",
   "metadata": {},
   "source": [
    "- If `scipy` is used, the inequalities extracted from the signatures are represented a matrix/vector form, such as: \n",
    "\n",
    "$\\hspace{30pt}\\min cx$  \n",
    "such that $Ax \\leq b$  \n",
    "$\\hspace{30pt}l \\leq x \\leq u$  \n",
    "\n",
    "The matrix A and the vectors b and c are stored in a `.npz` file.\n",
    "\n",
    "- If `lpsolve` is used, the inequalities extracted from the signatures are stored in this representation in an `lp` file:\n",
    "\n",
    "\n",
    "/* Objective function */  \n",
    "$\\min$: ;  \n",
    "\n",
    "/* Constraints */  \n",
    "$a_{0, 0}x_0 + \\cdots + a_{0, 255}x_0 \\leq b_{0}$  \n",
    "$a_{1, 0}x_0 + \\cdots + a_{1, 255}x_0 \\geq b_{0}$  \n",
    "$\\hspace{40pt}\\cdots $  \n",
    "\n",
    "/* Variable bounds */  \n",
    "$-l_{0} \\leq x_{0} \\leq u_{0};$  \n",
    "$\\hspace{20pt}\\cdots $  \n",
    "\n",
    "/* Integer definitions */  \n",
    "int $x_{0}, \\cdots, x_{255} $"
   ]
  },
  {
   "cell_type": "code",
   "execution_count": null,
   "id": "8c108d83-7c60-4f00-92ba-e922b24a30ed",
   "metadata": {},
   "outputs": [],
   "source": [
    "# Set the number of keys tested for the attack, the same as for ./PQCgenKAT_Sign_Modified\n",
    "NB_Keys_tested = 1\n",
    "\n",
    "# Set the number of keys tested for the attack, the same as for ./PQCgenSign_keyKAT\n",
    "TOTAL_NB_Signs = 1250000"
   ]
  },
  {
   "cell_type": "code",
   "execution_count": null,
   "id": "1add24c8-8622-4567-99fd-3e985812737b",
   "metadata": {},
   "outputs": [],
   "source": [
    "# We create the folder with where the .lp files will be stored \n",
    "dir_lps = f\"{os.path.abspath(os.path.join(__file__ ,'..'))}/Lps\"\n",
    "if not os.path.exists(dir_lps):\n",
    "    os.mkdir(dir_lps)\n",
    "\n",
    "if not os.path.exists(f\"{dir_lps}/Dilithium{dilithium.MODE}\"):\n",
    "    os.mkdir(f\"{dir_lps}/Dilithium{dilithium.MODE}\")\n",
    "    \n",
    "dir_lps = f\"{dir_lps}/Dilithium{dilithium.MODE}\""
   ]
  },
  {
   "cell_type": "code",
   "execution_count": null,
   "id": "bb9b29e2",
   "metadata": {},
   "outputs": [],
   "source": [
    "PK, SK = open_pk_sk(NB_Keys_tested)"
   ]
  },
  {
   "cell_type": "code",
   "execution_count": null,
   "id": "79ac1fa2-69b5-407e-a879-8a3f0c854e99",
   "metadata": {},
   "outputs": [],
   "source": [
    "%%time\n",
    "# PK: dict containing the number the pks from the KAT file\n",
    "# SK: dict containing the number the sks from the KAT file\n",
    "for key_targeted in range(NB_Keys_tested):\n",
    "    SIGNS_filtered = open_signs_filtered(key_targeted, TOTAL_NB_Signs)\n",
    "    \n",
    "    # Open corresponding pk/sk \n",
    "    pk, sk = PK[key_targeted], SK[key_targeted]\n",
    "    \n",
    "    rho, t1 = dilithium.unpack_pk(pk)\n",
    "    \n",
    "    Antt = dilithium.polyvec_matrix_expand(rho)\n",
    "    A = dilithium.Antt2Aintt(Antt)\n",
    "\n",
    "    # Just to compare to the correct values, we unpack the sk\n",
    "    _, Key, tr, s1, s2, t0 = dilithium.unpack_sk(sk)\n",
    "    \n",
    "    ######################### LP file Managing Process #######################\n",
    "    lps_file_name = f\"{dir_lps}/sk_{key_targeted}\"\n",
    "    number_of_inequalities = [0]*dilithium.K\n",
    "    if SOLVER == \"scipy\":\n",
    "        LPs = [[] for _ in range(dilithium.K)]\n",
    "        Bounds = [[] for _ in range(dilithium.K)]\n",
    "        C = [0 for _ in range(dilithium.N)]\n",
    "    elif SOLVER == \"lpsolve\":  \n",
    "        LPs = []\n",
    "        for i in range(dilithium.K):\n",
    "            lp = Lp(dilithium.N)\n",
    "            lp.set_verbose(lps.IMPORTANT)\n",
    "            lp.set_obj_fn([0]*dilithium.N)\n",
    "            LPs.append(lp)\n",
    "    else:\n",
    "        raise ValueError(f\"Solver {SOLVER}, used is incorrect\")\n",
    "    total_count = 0\n",
    "    ######################### LP file Managing Process #######################\n",
    "    \n",
    "    for sign_id, infos in SIGNS_filtered.items():\n",
    "        polynomial_index, coefficient_index = infos['index']//dilithium.N, infos['index']%dilithium.N\n",
    "        \n",
    "        r1, r0, c = dilithium.compute_Az_minus_ct(infos[\"sign\"], infos[\"msg\"], pk, Antt, t1, t0)\n",
    "\n",
    "        ineq_line = [(mult_xi(c, i = i_))[coefficient_index] for i_ in range(dilithium.N)]\n",
    "\n",
    "        if infos[\"neg\"] == 1:\n",
    "            diff_ =  1\n",
    "        else:\n",
    "            diff_ = -1\n",
    "           \n",
    "        bound = diff_*dilithium.GAMMA2 - r0[polynomial_index][coefficient_index]\n",
    "\n",
    "        if bound >= 0:         \n",
    "            if SOLVER == \"scipy\":\n",
    "                ineq_line = [-elem_ for elem_ in ineq_line]\n",
    "                bound *= -1\n",
    "                Bounds[polynomial_index].append(bound)\n",
    "                LPs[polynomial_index].append(ineq_line)\n",
    "            elif SOLVER == \"lpsolve\":\n",
    "                LPs[polynomial_index].add_constraint(ineq_line, lps.GE, bound)\n",
    "            else:\n",
    "                raise ValueError(f\"Solver {SOLVER}, used is incorrect\")\n",
    "\n",
    "        elif bound < 0:\n",
    "            if SOLVER == \"scipy\":\n",
    "                Bounds[polynomial_index].append(bound)\n",
    "                LPs[polynomial_index].append(ineq_line)\n",
    "            elif SOLVER == \"lpsolve\":\n",
    "                LPs[polynomial_index].add_constraint(ineq_line, lps.LE, bound)\n",
    "            else:\n",
    "                raise ValueError(f\"Solver {SOLVER}, used is incorrect\")\n",
    "                \n",
    "        \n",
    "        number_of_inequalities[polynomial_index] += 1 \n",
    "        total_count += 1\n",
    "    \n",
    "        if total_count%500 == 0:\n",
    "            print(f\"{number_of_inequalities}:{total_count}:{TOTAL_NB_Signs}\", end = \"\\r\")\n",
    "                                \n",
    "    if SOLVER == \"scipy\":\n",
    "        for i in range(dilithium.K):\n",
    "            np.savez_compressed(f\"{lps_file_name}_poly{i}\", A=LPs[i], b=Bounds[i], c=C )\n",
    "    elif SOLVER == \"lpsolve\":\n",
    "        for i in range(dilithium.K):\n",
    "            LPs[i].write_lp(f\"{lps_file_name}_poly{i}.lp\".encode())        \n",
    "    else:\n",
    "        raise ValueError(f\"Solver {SOLVER}, used is incorrect\")\n",
    "    "
   ]
  },
  {
   "cell_type": "code",
   "execution_count": null,
   "id": "d6646094",
   "metadata": {},
   "outputs": [],
   "source": [
    "if SOLVER == \"lpsolve\":\n",
    "    free_all_lps()"
   ]
  }
 ],
 "metadata": {
  "kernelspec": {
   "display_name": "{DISPLAY_NAME}",
   "language": "python",
   "name": "python3"
  },
  "language_info": {
   "codemirror_mode": {
    "name": "ipython",
    "version": 3
   },
   "file_extension": ".py",
   "mimetype": "text/x-python",
   "name": "python",
   "nbconvert_exporter": "python",
   "pygments_lexer": "ipython3",
   "version": "3.11.8"
  }
 },
 "nbformat": 4,
 "nbformat_minor": 5
}
