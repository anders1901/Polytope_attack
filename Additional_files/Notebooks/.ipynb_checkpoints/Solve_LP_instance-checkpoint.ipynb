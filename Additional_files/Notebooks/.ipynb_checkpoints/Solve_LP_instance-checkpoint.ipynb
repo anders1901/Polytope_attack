{
 "cells": [
  {
   "cell_type": "markdown",
   "id": "b2436df4-62fc-403d-a41e-5c789708c263",
   "metadata": {},
   "source": [
    "# Solving the set of inequations for ILP solving based on good signatures\n",
    "\n",
    "## (given the knowledge of $t_0$ )\n",
    "-------------------------"
   ]
  },
  {
   "cell_type": "markdown",
   "id": "f97e2bf7-0de6-4914-ac06-8ce05190bd78",
   "metadata": {},
   "source": [
    "## Libraries Used\n",
    "------------------------\n",
    "\n",
    "Below choose the solver to use between `scipy` and `lpsolve`    "
   ]
  },
  {
   "cell_type": "code",
   "execution_count": null,
   "id": "95f39cae-fbe8-42f3-83e8-8fd6874cb836",
   "metadata": {},
   "outputs": [],
   "source": [
    "%run -i ../Helper_functions.py"
   ]
  },
  {
   "cell_type": "code",
   "execution_count": null,
   "id": "8c108d83-7c60-4f00-92ba-e922b24a30ed",
   "metadata": {},
   "outputs": [],
   "source": [
    "# Set the number of keys tested for the attack , the same as for ./PQCgenKAT_Sign_Modified\n",
    "NB_Keys_tested = 1\n",
    "\n",
    "# Set the number of keys tested for the attack , the same as for ./PQCgenSign_keyKAT\n",
    "TOTAL_NB_Signs = 1250000\n",
    "\n",
    "# Folder where the lp files are stored\n",
    "dir_lps = f\"{os.path.abspath(os.path.join(__file__ ,'..'))}/Lps\"\n",
    "\n",
    "# Adapt file type according to solver used \n",
    "if SOLVER == \"scipy\":\n",
    "    bounds = [(- dilithium.ETA, dilithium.ETA) for _ in range(dilithium.N)]\n",
    "    extension_ = \"npz\"\n",
    "elif SOLVER == \"lpsolve\":\n",
    "    extension_ = \"lp\"\n",
    "    # Maximum runtime for lpsolve for each polynomial (in sec.)\n",
    "    MAX_TIMEOUT    = 30*60\n",
    "else:\n",
    "    print(\"Wrong solver found, verify it before solving\")"
   ]
  },
  {
   "cell_type": "code",
   "execution_count": null,
   "id": "1add24c8-8622-4567-99fd-3e985812737b",
   "metadata": {},
   "outputs": [],
   "source": [
    "PK, SK = open_pk_sk(NB_Keys_tested)"
   ]
  },
  {
   "cell_type": "code",
   "execution_count": null,
   "id": "495aabb3",
   "metadata": {},
   "outputs": [],
   "source": [
    "ALL_S2_FOUND = {i: 0 for i in range(NB_Keys_tested)}"
   ]
  },
  {
   "cell_type": "code",
   "execution_count": null,
   "id": "10bd041f-e765-4822-a3ea-fa90d563a383",
   "metadata": {},
   "outputs": [],
   "source": [
    "%%time\n",
    "\n",
    "for key_targeted in range(NB_Keys_tested):\n",
    "    # Open corresponding pk/sk \n",
    "    pk, sk = PK[key_targeted], SK[key_targeted]\n",
    "    \n",
    "    rho, t1 = dilithium.unpack_pk(pk)\n",
    "\n",
    "    Antt = dilithium.polyvec_matrix_expand(rho)\n",
    "    A = dilithium.Antt2Aintt(Antt)\n",
    "\n",
    "    # Just to compare to the correct values, we unpack the sk\n",
    "    _, Key, tr, s1, s2, t0 = dilithium.unpack_sk(sk)\n",
    "    s2_found = []\n",
    "    \n",
    "    vec_success = True\n",
    "    \n",
    "    for poly_targeted in range(0, dilithium.K):\n",
    "        poly_success  = True\n",
    "        lps_file_name = f\"{dir_lps}/Dilithium{dilithium.MODE}/sk_{key_targeted}_poly{poly_targeted}.{extension_}\"\n",
    "        \n",
    "        if SOLVER == \"scipy\":\n",
    "            np_file = print_np_file_infos(f\"{lps_file_name}\")\n",
    "            res = linprog(c = np_file[\"c\"], A_ub = np_file[\"A\"], b_ub = np_file[\"b\"], bounds = bounds)\n",
    "            potential_s2 = np.round(res.x).astype(int)\n",
    "            if not np.array_equal(s2[poly_targeted], potential_s2):\n",
    "                print(f\"\\n>>> At least one wrong coefficient found of s2[{poly_targeted}] :(\")\n",
    "                poly_success = False\n",
    "                vec_success = False\n",
    "                break\n",
    "        elif SOLVER == \"lpsolve\":\n",
    "            ordered_potential_s2 = [0 for _ in range(dilithium.N)]\n",
    "            print(f\"Loading: {lps_file_name}\")\n",
    "            lp_handle = lps.lpsolve(b'read_LP', lps_file_name.encode())\n",
    "            lps.lpsolve(b'set_verbose', lp_handle, lps.IMPORTANT)\n",
    "            lps.lpsolve(b\"set_timeout\", lp_handle, MAX_TIMEOUT)\n",
    "            lps.lpsolve(b'solve',lp_handle)\n",
    "            potential_s2 = lps.lpsolve(b\"get_variables\", lp_handle)[0]\n",
    "            coeff_names = lps.lpsolve(b'get_col_name', lp_handle)\n",
    "\n",
    "            for i in range(dilithium.N):\n",
    "                coeff_name = coeff_names[i]\n",
    "                index = int(coeff_name[1:])\n",
    "                \n",
    "                if potential_s2[i] != s2[poly_targeted][index]:\n",
    "                    print(f\"\\n>>> Wrong coefficient found s2[{poly_targeted}][{index}] = {potential_s2[i]} vs. real s2[{poly_targeted}][{index}] = {s2[poly_targeted][index]}\")\n",
    "                    poly_success = False\n",
    "                    vec_success = False\n",
    "                    break\n",
    "                else:\n",
    "                    ordered_potential_s2[index] = np.round(potential_s2[i]).astype(int)\n",
    "                    \n",
    "            if poly_success == False:\n",
    "                break             \n",
    "        else:\n",
    "            raise ValueError(f\"Solver {SOLVER}, used is incorrect\")\n",
    "        s2_found.append(ordered_potential_s2)\n",
    "    ALL_S2_FOUND[key_targeted] = s2_found\n",
    "    if vec_success:\n",
    "        print(f\"\\n>>> For key#{key_targeted}, the {dilithium.K} polynomials of s2 are correctly found!\")\n",
    "    else:\n",
    "        print(f\"\\n>>> For key#{key_targeted}, at least one of the {dilithium.K} polynomials of s2 are not correct!\")"
   ]
  },
  {
   "cell_type": "code",
   "execution_count": null,
   "id": "8734d3c8",
   "metadata": {},
   "outputs": [],
   "source": [
    "if SOLVER == \"lpsolve\":\n",
    "    free_all_lps()"
   ]
  }
 ],
 "metadata": {
  "kernelspec": {
   "display_name": "{DISPLAY_NAME}",
   "language": "python",
   "name": "python3"
  },
  "language_info": {
   "codemirror_mode": {
    "name": "ipython",
    "version": 3
   },
   "file_extension": ".py",
   "mimetype": "text/x-python",
   "name": "python",
   "nbconvert_exporter": "python",
   "pygments_lexer": "ipython3",
   "version": "3.11.8"
  }
 },
 "nbformat": 4,
 "nbformat_minor": 5
}
